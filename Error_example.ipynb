{
 "cells": [
  {
   "cell_type": "code",
   "execution_count": 33,
   "id": "9ea565ce-1519-4464-abda-401bec70f40e",
   "metadata": {},
   "outputs": [
    {
     "data": {
      "text/plain": [
       "'0.22.2'"
      ]
     },
     "execution_count": 33,
     "metadata": {},
     "output_type": "execute_result"
    }
   ],
   "source": [
    "import pickle as pk\n",
    "from sksurv.metrics import cumulative_dynamic_auc\n",
    "import sksurv\n",
    "sksurv.__version__"
   ]
  },
  {
   "cell_type": "code",
   "execution_count": 2,
   "id": "b1eddc35-e6fa-480e-a463-febd642e2dab",
   "metadata": {
    "scrolled": true
   },
   "outputs": [
    {
     "name": "stdout",
     "output_type": "stream",
     "text": [
      "(450,)\n",
      "min time: 1.0\n",
      "max time: 2353.0\n"
     ]
    },
    {
     "data": {
      "text/plain": [
       "array([(False, 2.190e+03), ( True, 2.970e+02), (False, 2.131e+03),\n",
       "       ( True, 1.000e+00), (False, 2.122e+03), ( True, 1.496e+03),\n",
       "       ( True, 9.200e+02), (False, 2.175e+03), (False, 2.173e+03),\n",
       "       ( True, 1.671e+03), (False, 2.192e+03), ( True, 8.650e+02),\n",
       "       (False, 2.166e+03), (False, 2.168e+03), ( True, 9.050e+02),\n",
       "       ( True, 2.353e+03), (False, 2.146e+03), ( True, 6.100e+01),\n",
       "       (False, 2.114e+03), (False, 2.132e+03), (False, 2.139e+03),\n",
       "       (False, 2.048e+03), (False, 2.152e+03), ( True, 6.000e+00),\n",
       "       (False, 2.156e+03), ( True, 1.180e+02), (False, 2.064e+03),\n",
       "       ( True, 8.490e+02), ( True, 7.140e+02), (False, 2.057e+03),\n",
       "       ( True, 2.000e+00), ( True, 7.000e+00), ( True, 4.220e+02),\n",
       "       ( True, 3.540e+02), (False, 2.065e+03), (False, 2.048e+03),\n",
       "       ( True, 1.065e+03), ( True, 5.350e+02), (False, 2.118e+03),\n",
       "       ( True, 9.700e+01), (False, 2.113e+03), ( True, 1.000e+02),\n",
       "       (False, 2.032e+03), ( True, 1.317e+03), (False, 2.126e+03),\n",
       "       (False, 2.126e+03), (False, 2.123e+03), ( True, 6.700e+02),\n",
       "       ( True, 3.430e+02), ( True, 3.000e+00), (False, 2.009e+03),\n",
       "       ( True, 6.400e+01), (False, 1.994e+03), ( True, 1.579e+03),\n",
       "       (False, 1.993e+03), ( True, 2.000e+00), (False, 1.955e+03),\n",
       "       ( True, 4.200e+01), ( True, 1.548e+03), ( True, 4.460e+02),\n",
       "       (False, 1.976e+03), (False, 2.009e+03), (False, 1.942e+03),\n",
       "       ( True, 1.000e+00), (False, 2.006e+03), (False, 2.086e+03),\n",
       "       (False, 1.969e+03), (False, 1.939e+03), (False, 1.939e+03),\n",
       "       (False, 1.940e+03), ( True, 1.576e+03), (False, 1.941e+03),\n",
       "       ( True, 1.970e+02), (False, 1.933e+03), ( True, 9.500e+01),\n",
       "       ( True, 2.160e+03), (False, 2.084e+03), (False, 2.145e+03),\n",
       "       (False, 2.125e+03), (False, 1.920e+03), ( True, 4.000e+00),\n",
       "       ( True, 1.553e+03), ( True, 2.350e+02), ( True, 1.920e+02),\n",
       "       ( True, 1.233e+03), ( True, 8.800e+01), ( True, 1.954e+03),\n",
       "       ( True, 9.030e+02), (False, 2.025e+03), ( True, 2.000e+00),\n",
       "       ( True, 7.000e+00), ( True, 1.870e+02), ( True, 1.010e+02),\n",
       "       (False, 1.885e+03), ( True, 9.360e+02), ( True, 3.630e+02),\n",
       "       ( True, 1.048e+03), (False, 1.977e+03), (False, 1.936e+03),\n",
       "       (False, 1.887e+03), (False, 1.889e+03), (False, 1.923e+03),\n",
       "       (False, 2.123e+03), (False, 2.100e+03), (False, 1.914e+03),\n",
       "       (False, 1.883e+03), (False, 1.931e+03), (False, 1.858e+03),\n",
       "       ( True, 6.000e+00), (False, 1.854e+03), (False, 1.847e+03),\n",
       "       (False, 1.858e+03), ( True, 1.870e+02), ( True, 4.600e+01),\n",
       "       (False, 1.893e+03), (False, 2.108e+03), ( True, 8.300e+01),\n",
       "       ( True, 3.300e+01), ( True, 1.377e+03), (False, 1.863e+03),\n",
       "       (False, 1.880e+03), ( True, 1.359e+03), (False, 1.831e+03),\n",
       "       (False, 1.836e+03), ( True, 1.159e+03), ( True, 1.130e+02),\n",
       "       ( True, 1.217e+03), (False, 1.899e+03), (False, 1.934e+03),\n",
       "       ( True, 1.527e+03), (False, 1.954e+03), ( True, 1.232e+03),\n",
       "       (False, 2.066e+03), ( True, 1.624e+03), ( True, 5.300e+02),\n",
       "       ( True, 1.096e+03), ( True, 3.450e+02), (False, 1.919e+03),\n",
       "       ( True, 1.577e+03), (False, 1.883e+03), (False, 1.904e+03),\n",
       "       (False, 2.083e+03), ( True, 1.460e+02), ( True, 2.350e+03),\n",
       "       ( True, 1.926e+03), (False, 2.114e+03), ( True, 7.180e+02),\n",
       "       (False, 1.451e+03), ( True, 4.650e+02), (False, 1.381e+03),\n",
       "       ( True, 1.100e+01), (False, 1.385e+03), (False, 1.346e+03),\n",
       "       (False, 1.338e+03), ( True, 1.370e+02), (False, 1.449e+03),\n",
       "       ( True, 1.536e+03), ( True, 1.627e+03), ( True, 1.000e+01),\n",
       "       ( True, 1.000e+00), ( True, 1.000e+00), ( True, 3.130e+02),\n",
       "       ( True, 1.200e+03), (False, 1.384e+03), ( True, 1.660e+02),\n",
       "       (False, 1.420e+03), ( True, 5.620e+02), (False, 1.302e+03),\n",
       "       (False, 1.253e+03), (False, 1.438e+03), (False, 1.400e+03),\n",
       "       (False, 1.325e+03), (False, 1.257e+03), (False, 1.319e+03),\n",
       "       (False, 1.256e+03), (False, 1.298e+03), ( True, 1.800e+01),\n",
       "       (False, 1.408e+03), (False, 1.333e+03), (False, 1.378e+03),\n",
       "       (False, 1.353e+03), ( True, 6.540e+02), (False, 1.262e+03),\n",
       "       (False, 1.314e+03), (False, 1.280e+03), (False, 1.433e+03),\n",
       "       (False, 1.430e+03), ( True, 7.000e+00), ( True, 1.000e+00),\n",
       "       (False, 1.277e+03), ( True, 1.080e+02), ( True, 2.000e+00),\n",
       "       (False, 1.409e+03), (False, 1.454e+03), ( True, 1.090e+02),\n",
       "       (False, 1.363e+03), (False, 1.365e+03), ( True, 2.000e+02),\n",
       "       (False, 1.336e+03), (False, 1.317e+03), ( True, 1.340e+02),\n",
       "       ( True, 5.700e+01), ( True, 1.165e+03), ( True, 1.400e+02),\n",
       "       ( True, 2.000e+01), ( True, 7.000e+00), (False, 1.190e+03),\n",
       "       ( True, 1.400e+02), ( True, 1.054e+03), (False, 1.108e+03),\n",
       "       (False, 1.106e+03), ( True, 2.590e+02), ( True, 1.000e+00),\n",
       "       (False, 1.162e+03), (False, 1.140e+03), (False, 1.231e+03),\n",
       "       ( True, 9.530e+02), (False, 1.248e+03), (False, 1.290e+03),\n",
       "       ( True, 1.152e+03), ( True, 1.900e+01), (False, 1.251e+03),\n",
       "       ( True, 1.136e+03), (False, 1.182e+03), ( True, 2.000e+00),\n",
       "       ( True, 1.690e+02), ( True, 7.040e+02), ( True, 2.000e+00),\n",
       "       (False, 1.232e+03), ( True, 4.790e+02), (False, 1.211e+03),\n",
       "       (False, 1.223e+03), (False, 1.191e+03), ( True, 1.000e+01),\n",
       "       (False, 1.117e+03), ( True, 1.174e+03), (False, 1.123e+03),\n",
       "       ( True, 3.850e+02), (False, 1.109e+03), ( True, 6.400e+01),\n",
       "       (False, 1.151e+03), ( True, 9.100e+01), ( True, 6.140e+02),\n",
       "       (False, 1.140e+03), ( True, 5.420e+02), (False, 1.199e+03),\n",
       "       (False, 1.248e+03), (False, 1.163e+03), ( True, 3.210e+02),\n",
       "       (False, 1.187e+03), (False, 1.207e+03), ( True, 2.950e+02),\n",
       "       (False, 1.273e+03), (False, 1.189e+03), (False, 1.234e+03),\n",
       "       ( True, 5.200e+01), (False, 1.203e+03), ( True, 1.290e+02),\n",
       "       ( True, 2.970e+02), (False, 1.458e+03), ( True, 1.170e+02),\n",
       "       ( True, 3.120e+02), (False, 1.244e+03), (False, 1.160e+03),\n",
       "       ( True, 2.870e+02), ( True, 1.377e+03), (False, 1.320e+03),\n",
       "       (False, 1.245e+03), ( True, 4.970e+02), ( True, 2.890e+02),\n",
       "       (False, 1.150e+03), (False, 1.266e+03), (False, 1.266e+03),\n",
       "       (False, 1.265e+03), (False, 1.126e+03), ( True, 1.320e+02),\n",
       "       ( True, 5.520e+02), (False, 1.444e+03), ( True, 1.400e+01),\n",
       "       (False, 1.454e+03), (False, 1.123e+03), (False, 1.279e+03),\n",
       "       (False, 1.366e+03), (False, 1.196e+03), (False, 1.114e+03),\n",
       "       ( True, 3.700e+01), (False, 1.390e+03), (False, 1.187e+03),\n",
       "       (False, 1.224e+03), (False, 1.121e+03), ( True, 1.900e+01),\n",
       "       (False, 1.456e+03), (False, 1.332e+03), (False, 1.174e+03),\n",
       "       (False, 1.274e+03), ( True, 3.820e+02), (False, 1.295e+03),\n",
       "       (False, 1.102e+03), (False, 1.169e+03), (False, 1.136e+03),\n",
       "       (False, 1.105e+03), (False, 1.178e+03), (False, 1.170e+03),\n",
       "       (False, 1.336e+03), (False, 1.103e+03), (False, 1.107e+03),\n",
       "       (False, 1.347e+03), ( True, 6.320e+02), (False, 1.161e+03),\n",
       "       (False, 1.388e+03), ( True, 6.000e+00), ( True, 3.200e+01),\n",
       "       (False, 5.730e+02), (False, 5.500e+02), (False, 5.700e+02),\n",
       "       ( True, 1.600e+01), ( True, 5.000e+00), (False, 5.780e+02),\n",
       "       ( True, 1.000e+00), (False, 5.890e+02), ( True, 8.100e+01),\n",
       "       (False, 5.500e+02), (False, 5.290e+02), (False, 5.230e+02),\n",
       "       (False, 5.220e+02), (False, 5.100e+02), (False, 5.240e+02),\n",
       "       (False, 4.800e+02), (False, 4.590e+02), ( True, 4.190e+02),\n",
       "       (False, 4.330e+02), (False, 4.450e+02), (False, 5.160e+02),\n",
       "       ( True, 3.400e+01), (False, 4.120e+02), (False, 3.980e+02),\n",
       "       (False, 3.970e+02), (False, 4.030e+02), (False, 3.860e+02),\n",
       "       (False, 3.760e+02), (False, 3.730e+02), (False, 3.710e+02),\n",
       "       (False, 6.590e+02), ( True, 2.330e+02), ( True, 6.000e+01),\n",
       "       ( True, 4.730e+02), ( True, 6.460e+02), (False, 5.890e+02),\n",
       "       (False, 6.060e+02), ( True, 2.740e+02), ( True, 1.690e+02),\n",
       "       (False, 5.680e+02), ( True, 6.730e+02), ( True, 5.590e+02),\n",
       "       ( True, 9.300e+01), ( True, 5.500e+01), (False, 5.440e+02),\n",
       "       ( True, 6.490e+02), (False, 5.070e+02), (False, 5.210e+02),\n",
       "       ( True, 4.060e+02), (False, 5.870e+02), (False, 5.320e+02),\n",
       "       ( True, 5.300e+01), (False, 4.660e+02), (False, 4.420e+02),\n",
       "       ( True, 1.450e+02), ( True, 3.300e+01), (False, 4.510e+02),\n",
       "       (False, 4.970e+02), ( True, 1.700e+01), (False, 5.060e+02),\n",
       "       (False, 5.210e+02), ( True, 1.160e+02), ( True, 6.200e+01),\n",
       "       ( True, 2.690e+02), ( True, 1.100e+01), (False, 5.160e+02),\n",
       "       (False, 4.780e+02), ( True, 4.900e+01), (False, 4.860e+02),\n",
       "       ( True, 7.600e+01), ( True, 1.000e+00), (False, 4.580e+02),\n",
       "       (False, 4.400e+02), (False, 4.520e+02), ( True, 1.800e+01),\n",
       "       ( True, 1.800e+01), ( True, 2.000e+01), ( True, 3.920e+02),\n",
       "       ( True, 6.900e+01), ( True, 2.000e+00), ( True, 2.200e+01),\n",
       "       (False, 4.260e+02), (False, 4.490e+02), ( True, 7.000e+00),\n",
       "       (False, 4.030e+02), (False, 3.710e+02), (False, 3.680e+02),\n",
       "       (False, 4.110e+02), (False, 3.900e+02), ( True, 3.590e+02),\n",
       "       (False, 4.080e+02), (False, 4.220e+02), (False, 3.760e+02),\n",
       "       ( True, 3.590e+02), ( True, 5.700e+01), ( True, 3.280e+02),\n",
       "       (False, 4.120e+02), ( True, 3.000e+00), (False, 4.580e+02),\n",
       "       (False, 4.450e+02), (False, 4.590e+02), ( True, 2.000e+00),\n",
       "       (False, 4.240e+02), (False, 4.160e+02), ( True, 3.000e+00),\n",
       "       (False, 4.270e+02), (False, 4.450e+02), (False, 4.210e+02),\n",
       "       ( True, 4.000e+00), (False, 3.990e+02), (False, 5.190e+02),\n",
       "       (False, 6.090e+02), (False, 4.460e+02), (False, 6.260e+02),\n",
       "       (False, 4.450e+02), ( True, 1.900e+01), (False, 4.500e+02),\n",
       "       (False, 4.000e+02), (False, 4.580e+02), (False, 5.350e+02),\n",
       "       ( True, 4.050e+02), (False, 4.570e+02), (False, 4.370e+02),\n",
       "       (False, 5.510e+02), ( True, 4.670e+02), (False, 5.540e+02),\n",
       "       (False, 5.730e+02), (False, 4.750e+02), ( True, 3.970e+02),\n",
       "       ( True, 1.400e+01), ( True, 7.000e+00), ( True, 6.900e+01),\n",
       "       ( True, 3.100e+01), ( True, 1.000e+01), (False, 6.620e+02),\n",
       "       (False, 7.250e+02), (False, 5.320e+02), ( True, 2.590e+02)],\n",
       "      dtype=[('fstat', '?'), ('lenfol', '<f8')])"
      ]
     },
     "execution_count": 2,
     "metadata": {},
     "output_type": "execute_result"
    }
   ],
   "source": [
    "toy_y_train = pk.load(open('toy_y_train.pk', 'rb'))\n",
    "print(toy_y_train.shape)\n",
    "print('min time:', min([t for _,t in toy_y_train]))\n",
    "print('max time:', max([t for _,t in toy_y_train]))\n",
    "toy_y_train"
   ]
  },
  {
   "cell_type": "code",
   "execution_count": 3,
   "id": "03f4a89d-d93a-4ec6-b451-f99a1a4d6b93",
   "metadata": {},
   "outputs": [
    {
     "name": "stdout",
     "output_type": "stream",
     "text": [
      "(50,)\n",
      "min time: 5.0\n",
      "max time: 2358.0\n"
     ]
    },
    {
     "data": {
      "text/plain": [
       "array([(False, 2178.), (False, 2172.), ( True, 2358.), (False, 2151.),\n",
       "       ( True,    6.), (False, 1964.), ( True,  151.), ( True,  612.),\n",
       "       (False, 1887.), ( True,   11.), ( True,   33.), ( True, 1506.),\n",
       "       (False, 2061.), (False, 1979.), ( True,  358.), ( True,   17.),\n",
       "       (False, 1329.), (False, 1308.), (False, 1272.), (False, 1374.),\n",
       "       ( True,    6.), (False, 1106.), (False, 1125.), (False, 1157.),\n",
       "       (False, 1235.), ( True,  143.), (False, 1232.), ( True,   11.),\n",
       "       (False, 1098.), (False, 1114.), ( True,   26.), ( True,  135.),\n",
       "       ( True,   32.), (False, 1320.), ( True, 1279.), ( True,   22.),\n",
       "       (False,  550.), (False,  542.), ( True,  226.), (False,  631.),\n",
       "       ( True,  537.), (False,  675.), (False,  511.), ( True,    5.),\n",
       "       (False,  407.), (False,  418.), ( True,  442.), (False,  371.),\n",
       "       ( True,  644.), (False,  386.)],\n",
       "      dtype=[('fstat', '?'), ('lenfol', '<f8')])"
      ]
     },
     "execution_count": 3,
     "metadata": {},
     "output_type": "execute_result"
    }
   ],
   "source": [
    "toy_y_test = pk.load(open('toy_y_test.pk', 'rb'))\n",
    "print(toy_y_test.shape)\n",
    "print('min time:', min([t for _,t in toy_y_test]))\n",
    "print('max time:', max([t for _,t in toy_y_test]))\n",
    "toy_y_test"
   ]
  },
  {
   "cell_type": "code",
   "execution_count": 16,
   "id": "9396a4d6-3974-40ad-8741-7cd3bcadd984",
   "metadata": {},
   "outputs": [
    {
     "name": "stdout",
     "output_type": "stream",
     "text": [
      "(50, 360)\n"
     ]
    },
    {
     "data": {
      "text/plain": [
       "array([[0.01586123, 0.01848506, 0.02109412, ..., 0.61877326, 0.61978571,\n",
       "        0.62079547],\n",
       "       [0.01408376, 0.01641601, 0.01873583, ..., 0.57493791, 0.57593951,\n",
       "        0.57693876],\n",
       "       [0.01512764, 0.01763121, 0.020121  , ..., 0.60124851, 0.60225821,\n",
       "        0.60326535],\n",
       "       ...,\n",
       "       [0.014042  , 0.0163674 , 0.01868042, ..., 0.57385072, 0.5748519 ,\n",
       "        0.57585072],\n",
       "       [0.0153364 , 0.01787419, 0.02039794, ..., 0.60631452, 0.60732524,\n",
       "        0.60833336],\n",
       "       [0.01468634, 0.01711751, 0.01953548, ..., 0.59032708, 0.59133398,\n",
       "        0.59233841]])"
      ]
     },
     "execution_count": 16,
     "metadata": {},
     "output_type": "execute_result"
    }
   ],
   "source": [
    "toy_chf = pk.load(open('toy_chf.pk', 'rb'))\n",
    "print(toy_chf.shape)\n",
    "toy_chf"
   ]
  },
  {
   "cell_type": "code",
   "execution_count": 8,
   "id": "35d5df1c-93b1-44d6-9aba-7d5149612a1b",
   "metadata": {
    "scrolled": true
   },
   "outputs": [
    {
     "name": "stdout",
     "output_type": "stream",
     "text": [
      "(360,)\n"
     ]
    },
    {
     "data": {
      "text/plain": [
       "array([   6.,    7.,   10.,   11.,   14.,   16.,   17.,   18.,   19.,\n",
       "         20.,   22.,   31.,   32.,   33.,   34.,   37.,   42.,   46.,\n",
       "         49.,   52.,   53.,   55.,   57.,   60.,   61.,   62.,   64.,\n",
       "         69.,   76.,   81.,   83.,   88.,   91.,   93.,   95.,   97.,\n",
       "        100.,  101.,  108.,  109.,  113.,  116.,  117.,  118.,  129.,\n",
       "        132.,  134.,  137.,  140.,  145.,  146.,  166.,  169.,  187.,\n",
       "        192.,  197.,  200.,  233.,  235.,  259.,  269.,  274.,  287.,\n",
       "        289.,  295.,  297.,  312.,  313.,  321.,  328.,  343.,  345.,\n",
       "        354.,  359.,  363.,  368.,  371.,  373.,  376.,  382.,  385.,\n",
       "        386.,  390.,  392.,  397.,  398.,  399.,  400.,  403.,  405.,\n",
       "        406.,  408.,  411.,  412.,  416.,  419.,  421.,  422.,  424.,\n",
       "        426.,  427.,  433.,  437.,  440.,  442.,  445.,  446.,  449.,\n",
       "        450.,  451.,  452.,  457.,  458.,  459.,  465.,  466.,  467.,\n",
       "        473.,  475.,  478.,  479.,  480.,  486.,  497.,  506.,  507.,\n",
       "        510.,  516.,  519.,  521.,  522.,  523.,  524.,  529.,  530.,\n",
       "        532.,  535.,  542.,  544.,  550.,  551.,  552.,  554.,  559.,\n",
       "        562.,  568.,  570.,  573.,  578.,  587.,  589.,  606.,  609.,\n",
       "        614.,  626.,  632.,  646.,  649.,  654.,  659.,  662.,  670.,\n",
       "        673.,  704.,  714.,  718.,  725.,  849.,  865.,  903.,  905.,\n",
       "        920.,  936.,  953., 1048., 1054., 1065., 1096., 1102., 1103.,\n",
       "       1105., 1106., 1107., 1108., 1109., 1114., 1117., 1121., 1123.,\n",
       "       1126., 1136., 1140., 1150., 1151., 1152., 1159., 1160., 1161.,\n",
       "       1162., 1163., 1165., 1169., 1170., 1174., 1178., 1182., 1187.,\n",
       "       1189., 1190., 1191., 1196., 1199., 1200., 1203., 1207., 1211.,\n",
       "       1217., 1223., 1224., 1231., 1232., 1233., 1234., 1244., 1245.,\n",
       "       1248., 1251., 1253., 1256., 1257., 1262., 1265., 1266., 1273.,\n",
       "       1274., 1277., 1279., 1280., 1290., 1295., 1298., 1302., 1314.,\n",
       "       1317., 1319., 1320., 1325., 1332., 1333., 1336., 1338., 1346.,\n",
       "       1347., 1353., 1359., 1363., 1365., 1366., 1377., 1378., 1381.,\n",
       "       1384., 1385., 1388., 1390., 1400., 1408., 1409., 1420., 1430.,\n",
       "       1433., 1438., 1444., 1449., 1451., 1454., 1456., 1458., 1496.,\n",
       "       1527., 1536., 1548., 1553., 1576., 1577., 1579., 1624., 1627.,\n",
       "       1671., 1831., 1836., 1847., 1854., 1858., 1863., 1880., 1883.,\n",
       "       1885., 1887., 1889., 1893., 1899., 1904., 1914., 1919., 1920.,\n",
       "       1923., 1926., 1931., 1933., 1934., 1936., 1939., 1940., 1941.,\n",
       "       1942., 1954., 1955., 1969., 1976., 1977., 1993., 1994., 2006.,\n",
       "       2009., 2025., 2032., 2048., 2057., 2064., 2065., 2066., 2083.,\n",
       "       2084., 2086., 2100., 2108., 2113., 2114., 2118., 2122., 2123.,\n",
       "       2125., 2126., 2131., 2132., 2139., 2145., 2146., 2152., 2156.,\n",
       "       2160., 2166., 2168., 2173., 2175., 2190., 2192., 2350., 2353.])"
      ]
     },
     "execution_count": 8,
     "metadata": {},
     "output_type": "execute_result"
    }
   ],
   "source": [
    "toy_times = pk.load(open('toy_times.pk', 'rb'))\n",
    "print(toy_times.shape)\n",
    "toy_times"
   ]
  },
  {
   "cell_type": "code",
   "execution_count": 32,
   "id": "4e554eec-ee47-4806-9cea-500d734e7c5f",
   "metadata": {},
   "outputs": [
    {
     "ename": "ValueError",
     "evalue": "time must be smaller than largest observed time point: 2353.0",
     "output_type": "error",
     "traceback": [
      "\u001b[0;31m---------------------------------------------------------------------------\u001b[0m",
      "\u001b[0;31mValueError\u001b[0m                                Traceback (most recent call last)",
      "Cell \u001b[0;32mIn[32], line 1\u001b[0m\n\u001b[0;32m----> 1\u001b[0m _auc, _mean_auc \u001b[38;5;241m=\u001b[39m cumulative_dynamic_auc(survival_train\u001b[38;5;241m=\u001b[39mtoy_y_train, survival_test\u001b[38;5;241m=\u001b[39mtoy_y_test, estimate\u001b[38;5;241m=\u001b[39mtoy_chf[:,:\u001b[38;5;241m359\u001b[39m], times\u001b[38;5;241m=\u001b[39mtoy_times[:\u001b[38;5;241m359\u001b[39m])\n",
      "File \u001b[0;32m~/miniconda3/envs/sksurv/lib/python3.12/site-packages/sksurv/metrics.py:457\u001b[0m, in \u001b[0;36mcumulative_dynamic_auc\u001b[0;34m(survival_train, survival_test, estimate, times, tied_tol)\u001b[0m\n\u001b[1;32m    455\u001b[0m cens \u001b[38;5;241m=\u001b[39m CensoringDistributionEstimator()\n\u001b[1;32m    456\u001b[0m cens\u001b[38;5;241m.\u001b[39mfit(survival_train)\n\u001b[0;32m--> 457\u001b[0m ipcw \u001b[38;5;241m=\u001b[39m cens\u001b[38;5;241m.\u001b[39mpredict_ipcw(survival_test)\n\u001b[1;32m    459\u001b[0m \u001b[38;5;66;03m# expand arrays to (n_samples, n_times) shape\u001b[39;00m\n\u001b[1;32m    460\u001b[0m test_time \u001b[38;5;241m=\u001b[39m np\u001b[38;5;241m.\u001b[39mbroadcast_to(test_time[:, np\u001b[38;5;241m.\u001b[39mnewaxis], (n_samples, n_times))\n",
      "File \u001b[0;32m~/miniconda3/envs/sksurv/lib/python3.12/site-packages/sksurv/nonparametric.py:580\u001b[0m, in \u001b[0;36mCensoringDistributionEstimator.predict_ipcw\u001b[0;34m(self, y)\u001b[0m\n\u001b[1;32m    563\u001b[0m \u001b[38;5;250m\u001b[39m\u001b[38;5;124;03m\"\"\"Return inverse probability of censoring weights at given time points.\u001b[39;00m\n\u001b[1;32m    564\u001b[0m \n\u001b[1;32m    565\u001b[0m \u001b[38;5;124;03m:math:`\\\\omega_i = \\\\delta_i / \\\\hat{G}(y_i)`\u001b[39;00m\n\u001b[0;32m   (...)\u001b[0m\n\u001b[1;32m    577\u001b[0m \u001b[38;5;124;03m    Inverse probability of censoring weights.\u001b[39;00m\n\u001b[1;32m    578\u001b[0m \u001b[38;5;124;03m\"\"\"\u001b[39;00m\n\u001b[1;32m    579\u001b[0m event, time \u001b[38;5;241m=\u001b[39m check_y_survival(y)\n\u001b[0;32m--> 580\u001b[0m Ghat \u001b[38;5;241m=\u001b[39m \u001b[38;5;28mself\u001b[39m\u001b[38;5;241m.\u001b[39mpredict_proba(time[event])\n\u001b[1;32m    582\u001b[0m \u001b[38;5;28;01mif\u001b[39;00m (Ghat \u001b[38;5;241m==\u001b[39m \u001b[38;5;241m0.0\u001b[39m)\u001b[38;5;241m.\u001b[39many():\n\u001b[1;32m    583\u001b[0m     \u001b[38;5;28;01mraise\u001b[39;00m \u001b[38;5;167;01mValueError\u001b[39;00m(\u001b[38;5;124m\"\u001b[39m\u001b[38;5;124mcensoring survival function is zero at one or more time points\u001b[39m\u001b[38;5;124m\"\u001b[39m)\n",
      "File \u001b[0;32m~/miniconda3/envs/sksurv/lib/python3.12/site-packages/sksurv/nonparametric.py:510\u001b[0m, in \u001b[0;36mSurvivalFunctionEstimator.predict_proba\u001b[0;34m(self, time, return_conf_int)\u001b[0m\n\u001b[1;32m    508\u001b[0m extends \u001b[38;5;241m=\u001b[39m time \u001b[38;5;241m>\u001b[39m \u001b[38;5;28mself\u001b[39m\u001b[38;5;241m.\u001b[39munique_time_[\u001b[38;5;241m-\u001b[39m\u001b[38;5;241m1\u001b[39m]\n\u001b[1;32m    509\u001b[0m \u001b[38;5;28;01mif\u001b[39;00m \u001b[38;5;28mself\u001b[39m\u001b[38;5;241m.\u001b[39mprob_[\u001b[38;5;241m-\u001b[39m\u001b[38;5;241m1\u001b[39m] \u001b[38;5;241m>\u001b[39m \u001b[38;5;241m0\u001b[39m \u001b[38;5;129;01mand\u001b[39;00m extends\u001b[38;5;241m.\u001b[39many():\n\u001b[0;32m--> 510\u001b[0m     \u001b[38;5;28;01mraise\u001b[39;00m \u001b[38;5;167;01mValueError\u001b[39;00m(\u001b[38;5;124mf\u001b[39m\u001b[38;5;124m\"\u001b[39m\u001b[38;5;124mtime must be smaller than largest observed time point: \u001b[39m\u001b[38;5;132;01m{\u001b[39;00m\u001b[38;5;28mself\u001b[39m\u001b[38;5;241m.\u001b[39munique_time_[\u001b[38;5;241m-\u001b[39m\u001b[38;5;241m1\u001b[39m]\u001b[38;5;132;01m}\u001b[39;00m\u001b[38;5;124m\"\u001b[39m)\n\u001b[1;32m    512\u001b[0m \u001b[38;5;66;03m# beyond last time point is zero probability\u001b[39;00m\n\u001b[1;32m    513\u001b[0m Shat \u001b[38;5;241m=\u001b[39m np\u001b[38;5;241m.\u001b[39mempty(time\u001b[38;5;241m.\u001b[39mshape, dtype\u001b[38;5;241m=\u001b[39m\u001b[38;5;28mfloat\u001b[39m)\n",
      "\u001b[0;31mValueError\u001b[0m: time must be smaller than largest observed time point: 2353.0"
     ]
    }
   ],
   "source": [
    "_auc, _mean_auc = cumulative_dynamic_auc(survival_train=toy_y_train, survival_test=toy_y_test, estimate=toy_chf, times=toy_times)"
   ]
  },
  {
   "cell_type": "code",
   "execution_count": null,
   "id": "97509bb3-9397-465f-a3ec-07d9bf9d260c",
   "metadata": {},
   "outputs": [],
   "source": []
  }
 ],
 "metadata": {
  "kernelspec": {
   "display_name": "Python 3 (ipykernel)",
   "language": "python",
   "name": "python3"
  },
  "language_info": {
   "codemirror_mode": {
    "name": "ipython",
    "version": 3
   },
   "file_extension": ".py",
   "mimetype": "text/x-python",
   "name": "python",
   "nbconvert_exporter": "python",
   "pygments_lexer": "ipython3",
   "version": "3.12.2"
  }
 },
 "nbformat": 4,
 "nbformat_minor": 5
}
